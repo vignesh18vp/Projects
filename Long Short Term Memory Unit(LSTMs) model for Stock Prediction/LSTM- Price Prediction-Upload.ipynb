{
 "cells": [
  {
   "cell_type": "markdown",
   "metadata": {},
   "source": [
    "### <span style=\"color:brown\">Notebook Instructions</span>\n",
    "\n",
    "- <i>  <span style=\"color:#FFFF00; background:#00C000\"> <b> Please download the notebook available as downloads in the next unit. </b> It will not run in the browser.</i>\n",
    "- <i>  Assuming, you have Anaconda or some Python environment installed on your system, <span style=\"color:#FFFF00; background:#00C000\"> <b> you need to install Keras library. </b>. </i>\n",
    "- <i> <span style=\"color:#00C000\"> DNN models are very heavy and it is possible that your code will take time to run. Be patient and try again if required. Keep your CPU free of other burdens during the time of run! </i>\n",
    "\n",
    "\n",
    "\n",
    "#### Please download this Ipython notebook from the last unit of the last section of this course. We request you to run this Ipython Notebook on your local machine. You will not be able to run this Notebook on the Quantra portal as some of the cells are converted to RawNB format. When running this model on your system, please convert the cells in RawNBConvert format type to Code type, using the dropdown present in the menu bar of the Ipython Notebook.####"
   ]
  },
  {
   "cell_type": "markdown",
   "metadata": {},
   "source": [
    "### <span style=\"color:brown\">Data Pre- Processing</span>"
   ]
  },
  {
   "cell_type": "markdown",
   "metadata": {},
   "source": [
    "In this block of code we have downalaoded the data and scaled it, just as we did in the DNN model."
   ]
  },
  {
   "cell_type": "code",
   "execution_count": 1,
   "metadata": {},
   "outputs": [],
   "source": [
    "from datetime import date\n",
    "import numpy as np\n",
    "import matplotlib.pyplot as plt\n",
    "from sklearn.preprocessing import MinMaxScaler\n",
    "import pandas as pd\n",
    "import warnings\n",
    "warnings.filterwarnings('ignore')"
   ]
  },
  {
   "cell_type": "code",
   "execution_count": 2,
   "metadata": {},
   "outputs": [],
   "source": [
    "data = pd.read_csv('SBIN.csv',index_col = 0,parse_dates = True, na_values = 0).dropna()"
   ]
  },
  {
   "cell_type": "code",
   "execution_count": 3,
   "metadata": {},
   "outputs": [
    {
     "data": {
      "text/html": [
       "<div>\n",
       "<style scoped>\n",
       "    .dataframe tbody tr th:only-of-type {\n",
       "        vertical-align: middle;\n",
       "    }\n",
       "\n",
       "    .dataframe tbody tr th {\n",
       "        vertical-align: top;\n",
       "    }\n",
       "\n",
       "    .dataframe thead th {\n",
       "        text-align: right;\n",
       "    }\n",
       "</style>\n",
       "<table border=\"1\" class=\"dataframe\">\n",
       "  <thead>\n",
       "    <tr style=\"text-align: right;\">\n",
       "      <th></th>\n",
       "      <th>Close</th>\n",
       "      <th>High</th>\n",
       "      <th>Low</th>\n",
       "      <th>Open</th>\n",
       "      <th>Volume</th>\n",
       "      <th>Last</th>\n",
       "    </tr>\n",
       "    <tr>\n",
       "      <th>Date</th>\n",
       "      <th></th>\n",
       "      <th></th>\n",
       "      <th></th>\n",
       "      <th></th>\n",
       "      <th></th>\n",
       "      <th></th>\n",
       "    </tr>\n",
       "  </thead>\n",
       "  <tbody>\n",
       "    <tr>\n",
       "      <th>2018-12-21 00:00:00+00:00</th>\n",
       "      <td>0.707461</td>\n",
       "      <td>0.730116</td>\n",
       "      <td>0.702044</td>\n",
       "      <td>0.716080</td>\n",
       "      <td>0.052628</td>\n",
       "      <td>291.90</td>\n",
       "    </tr>\n",
       "    <tr>\n",
       "      <th>2018-12-24 00:00:00+00:00</th>\n",
       "      <td>0.713125</td>\n",
       "      <td>0.722728</td>\n",
       "      <td>0.698843</td>\n",
       "      <td>0.715341</td>\n",
       "      <td>0.038322</td>\n",
       "      <td>293.05</td>\n",
       "    </tr>\n",
       "    <tr>\n",
       "      <th>2018-12-26 00:00:00+00:00</th>\n",
       "      <td>0.718542</td>\n",
       "      <td>0.722728</td>\n",
       "      <td>0.684068</td>\n",
       "      <td>0.712140</td>\n",
       "      <td>0.040760</td>\n",
       "      <td>294.15</td>\n",
       "    </tr>\n",
       "    <tr>\n",
       "      <th>2018-12-27 00:00:00+00:00</th>\n",
       "      <td>0.708692</td>\n",
       "      <td>0.735533</td>\n",
       "      <td>0.705491</td>\n",
       "      <td>0.731101</td>\n",
       "      <td>0.050814</td>\n",
       "      <td>292.15</td>\n",
       "    </tr>\n",
       "    <tr>\n",
       "      <th>2018-12-28 00:00:00+00:00</th>\n",
       "      <td>0.721743</td>\n",
       "      <td>0.733071</td>\n",
       "      <td>0.715587</td>\n",
       "      <td>0.715834</td>\n",
       "      <td>0.041497</td>\n",
       "      <td>294.80</td>\n",
       "    </tr>\n",
       "  </tbody>\n",
       "</table>\n",
       "</div>"
      ],
      "text/plain": [
       "                              Close      High       Low      Open    Volume  \\\n",
       "Date                                                                          \n",
       "2018-12-21 00:00:00+00:00  0.707461  0.730116  0.702044  0.716080  0.052628   \n",
       "2018-12-24 00:00:00+00:00  0.713125  0.722728  0.698843  0.715341  0.038322   \n",
       "2018-12-26 00:00:00+00:00  0.718542  0.722728  0.684068  0.712140  0.040760   \n",
       "2018-12-27 00:00:00+00:00  0.708692  0.735533  0.705491  0.731101  0.050814   \n",
       "2018-12-28 00:00:00+00:00  0.721743  0.733071  0.715587  0.715834  0.041497   \n",
       "\n",
       "                             Last  \n",
       "Date                               \n",
       "2018-12-21 00:00:00+00:00  291.90  \n",
       "2018-12-24 00:00:00+00:00  293.05  \n",
       "2018-12-26 00:00:00+00:00  294.15  \n",
       "2018-12-27 00:00:00+00:00  292.15  \n",
       "2018-12-28 00:00:00+00:00  294.80  "
      ]
     },
     "execution_count": 3,
     "metadata": {},
     "output_type": "execute_result"
    }
   ],
   "source": [
    "max_=data[['Open','High','Low','Close']].max().max()\n",
    "min_=data[['Open','High','Low','Close']].min().min()\n",
    "\n",
    "scl=MinMaxScaler()\n",
    "\n",
    "X1=(data[['Open','High','Low','Close']]-min_)/(max_-min_)\n",
    "X2=scl.fit_transform(data[['Volume']].values.reshape(-1,1))\n",
    "X1=np.array(X1)\n",
    "\n",
    "data=data.assign(Open=X1[:,0])\n",
    "data=data.assign(High=X1[:,1])\n",
    "data=data.assign(Low=X1[:,2])\n",
    "data=data.assign(Close=X1[:,3])\n",
    "data=data.assign(Volume=X2[:,0])\n",
    "data.tail()"
   ]
  },
  {
   "cell_type": "markdown",
   "metadata": {},
   "source": [
    "You can see that the OHLCV values have been updated"
   ]
  },
  {
   "cell_type": "markdown",
   "metadata": {},
   "source": [
    "### <span style=\"color:brown\"> Creating the input and target features"
   ]
  },
  {
   "cell_type": "markdown",
   "metadata": {},
   "source": [
    "Now,we will create a feature data set called  <font color =red>X</font> which will be used to create the input for the LSTM model.<br> \n",
    "\n",
    "Next, we create a dataset called <font color =red>y</font> which will contain the future close values.<br>\n",
    "\n",
    "The model will train to predict these values future close prices."
   ]
  },
  {
   "cell_type": "code",
   "execution_count": 5,
   "metadata": {},
   "outputs": [],
   "source": [
    "X=data[['Open','High','Low','Close','Volume']]\n",
    "y=data.Last.shift(-1)"
   ]
  },
  {
   "cell_type": "markdown",
   "metadata": {},
   "source": [
    "In this example, we have taken a timestep of 1 day to create the input data. This is very less compared to the 20 days data that we gave as input for the RNN. But you will be able to see that the LSTM is able to produce similar, if not better results, when compared to the RNN."
   ]
  },
  {
   "cell_type": "code",
   "execution_count": 6,
   "metadata": {},
   "outputs": [],
   "source": [
    "timestep=1\n",
    "X_list=[]\n",
    "y_list=[]\n",
    "for i in range(timestep,len(X)):\n",
    "    X_list.append(np.array(X.iloc[i-timestep:i]))\n",
    "    y_list.append(y.iloc[i:i+timestep].values)"
   ]
  },
  {
   "cell_type": "code",
   "execution_count": 7,
   "metadata": {},
   "outputs": [],
   "source": [
    "test_size=60\n",
    "X_train=np.array(X_list[:-test_size])\n",
    "y_train=np.expand_dims(np.array(y_list[:-test_size]),axis=2)\n",
    "X_test=np.array(X_list[-test_size:])\n",
    "y_test=np.expand_dims(np.array(y_list[-test_size:]),axis=2)"
   ]
  },
  {
   "cell_type": "markdown",
   "metadata": {},
   "source": [
    "### <span style=\"color:brown\">Creating an LSTM model"
   ]
  },
  {
   "cell_type": "markdown",
   "metadata": {},
   "source": [
    "First we import the necessary modules for the model from the keras library"
   ]
  },
  {
   "cell_type": "markdown",
   "metadata": {},
   "source": [
    "In this model, I have added a dropout layer with a 80% drop ratio. If you choose a model that it is not very deep then the chances of over-fitting are very less and you may not need a dropout layer. "
   ]
  },
  {
   "cell_type": "code",
   "execution_count": 8,
   "metadata": {},
   "outputs": [
    {
     "name": "stderr",
     "output_type": "stream",
     "text": [
      "Using TensorFlow backend.\n"
     ]
    }
   ],
   "source": [
    "from keras.layers import LSTM\n",
    "from keras.models import Sequential\n",
    "from keras.layers import Dropout\n",
    "from keras.layers import Dense\n",
    "from keras.callbacks import ModelCheckpoint\n",
    "# Please note that the number of neurons used in LSTM model is lesser than those in the RNN model\n",
    "neurons=200\n",
    "act='tanh'\n",
    "dropout_ratio=0.80"
   ]
  },
  {
   "cell_type": "markdown",
   "metadata": {},
   "source": [
    "Let us begin to build the model, as you might recall the first layer will always be a sequential one. Followed by an LSTM in this case, as we want to test a simple LSTM model to check the accuracy.\n",
    "\n",
    "After this, I have added a few Dense layers (fully connected Neural Network) along with the dropout layers.\n",
    "\n",
    "As the depth of the model increases, the model's ability to create complex features also increases. But, this often results in overfitting."
   ]
  },
  {
   "cell_type": "code",
   "execution_count": 9,
   "metadata": {
    "scrolled": true
   },
   "outputs": [],
   "source": [
    "model=Sequential()\n",
    "model.add(LSTM(4,input_shape=(X_train.shape[1],X_train.shape[2]),return_sequences=True))\n",
    "model.add(Dense(neurons,activation=act))\n",
    "model.add(Dropout(dropout_ratio))\n",
    "model.add(Dense(neurons*2,activation=act))\n",
    "model.add(Dropout(dropout_ratio))\n",
    "model.add(Dense(neurons*3,activation=act))\n",
    "model.add(Dropout(dropout_ratio))\n",
    "model.add(Dense(neurons*4,activation=act))\n",
    "model.add(Dropout(dropout_ratio))\n",
    "model.add(Dense(neurons*5,activation=act))\n",
    "model.add(Dropout(dropout_ratio))\n",
    "model.add(Dense(1))\n",
    "model.compile(loss='mean_squared_error', optimizer='adam', metrics = ['mse'])"
   ]
  },
  {
   "cell_type": "markdown",
   "metadata": {},
   "source": [
    "### <span style=\"color:brown\"> Saving and loading the model"
   ]
  },
  {
   "cell_type": "markdown",
   "metadata": {},
   "source": [
    "In Keras, we can save the best weights of the model by creating a checkpoint during the training of the model. To create a checkpoint, we specify the metric that needs to be monitored and saved accordingly. In this example, I have passed the validation set loss as the monitoring parameter, and specified the mode of saving as 'auto'. This means that the model will save the weights of the network whenever a now low value for the validation loss is generated. \n",
    "\n",
    "I have specified the file path as LSTM-weights-best.hdf5 to save the weights of the model.\n",
    "\n",
    "The verbose=1 parameter defines how much information about every batch training needs to be printed\n",
    "\n",
    "#### We strongly encourage you to change all the parameters discussed above to create your own models and test them out.\n",
    "\n",
    "Also, please be reasonable in specifying the depth and number of neurons in a model, else you may not get a result in reasonable time."
   ]
  },
  {
   "cell_type": "code",
   "execution_count": 10,
   "metadata": {},
   "outputs": [],
   "source": [
    "filepath=\"LSTM-weights-best.hdf5\"\n",
    "checkpoint = ModelCheckpoint(filepath, monitor='val_loss', verbose=1, save_best_only=True, mode='auto')"
   ]
  },
  {
   "cell_type": "markdown",
   "metadata": {},
   "source": [
    "Now let us visualize our model."
   ]
  },
  {
   "cell_type": "code",
   "execution_count": 11,
   "metadata": {},
   "outputs": [
    {
     "name": "stdout",
     "output_type": "stream",
     "text": [
      "_________________________________________________________________\n",
      "Layer (type)                 Output Shape              Param #   \n",
      "=================================================================\n",
      "lstm_1 (LSTM)                (None, 1, 4)              160       \n",
      "_________________________________________________________________\n",
      "dense_1 (Dense)              (None, 1, 200)            1000      \n",
      "_________________________________________________________________\n",
      "dropout_1 (Dropout)          (None, 1, 200)            0         \n",
      "_________________________________________________________________\n",
      "dense_2 (Dense)              (None, 1, 400)            80400     \n",
      "_________________________________________________________________\n",
      "dropout_2 (Dropout)          (None, 1, 400)            0         \n",
      "_________________________________________________________________\n",
      "dense_3 (Dense)              (None, 1, 600)            240600    \n",
      "_________________________________________________________________\n",
      "dropout_3 (Dropout)          (None, 1, 600)            0         \n",
      "_________________________________________________________________\n",
      "dense_4 (Dense)              (None, 1, 800)            480800    \n",
      "_________________________________________________________________\n",
      "dropout_4 (Dropout)          (None, 1, 800)            0         \n",
      "_________________________________________________________________\n",
      "dense_5 (Dense)              (None, 1, 1000)           801000    \n",
      "_________________________________________________________________\n",
      "dropout_5 (Dropout)          (None, 1, 1000)           0         \n",
      "_________________________________________________________________\n",
      "dense_6 (Dense)              (None, 1, 1)              1001      \n",
      "=================================================================\n",
      "Total params: 1,604,961\n",
      "Trainable params: 1,604,961\n",
      "Non-trainable params: 0\n",
      "_________________________________________________________________\n"
     ]
    }
   ],
   "source": [
    "model.summary()"
   ]
  },
  {
   "cell_type": "markdown",
   "metadata": {},
   "source": [
    "Now, its time to train the model.\n",
    "\n",
    "While training the model we have to specify the size of the batch, this indicates to the model how many train samples it should take in a single batch while training.\n",
    "\n",
    "The validation split randomly splits the train data to verify the performance of the model on untrained data.\n",
    "\n",
    "Epochs are the number of runs the model needs to make for the convergence of train and validation losses."
   ]
  },
  {
   "cell_type": "code",
   "execution_count": 12,
   "metadata": {
    "scrolled": false
   },
   "outputs": [
    {
     "name": "stdout",
     "output_type": "stream",
     "text": [
      "Train on 832 samples, validate on 208 samples\n",
      "Epoch 1/100\n",
      "832/832 [==============================] - 96s 116ms/step - loss: 15459.2620 - mean_squared_error: 15459.2620 - val_loss: 1286.4299 - val_mean_squared_error: 1286.4299\n",
      "\n",
      "Epoch 00001: val_loss improved from inf to 1286.42993, saving model to LSTM-weights-best.hdf5\n",
      "Epoch 2/100\n",
      "832/832 [==============================] - 85s 102ms/step - loss: 1811.8814 - mean_squared_error: 1811.8814 - val_loss: 790.6361 - val_mean_squared_error: 790.6361\n",
      "\n",
      "Epoch 00002: val_loss improved from 1286.42993 to 790.63610, saving model to LSTM-weights-best.hdf5\n",
      "Epoch 3/100\n",
      "832/832 [==============================] - 84s 101ms/step - loss: 1848.5199 - mean_squared_error: 1848.5199 - val_loss: 920.1624 - val_mean_squared_error: 920.1624\n",
      "\n",
      "Epoch 00003: val_loss did not improve from 790.63610\n",
      "Epoch 4/100\n",
      "832/832 [==============================] - 92s 110ms/step - loss: 2214.2430 - mean_squared_error: 2214.2430 - val_loss: 639.2034 - val_mean_squared_error: 639.2034\n",
      "\n",
      "Epoch 00004: val_loss improved from 790.63610 to 639.20344, saving model to LSTM-weights-best.hdf5\n",
      "Epoch 5/100\n",
      "832/832 [==============================] - 85s 103ms/step - loss: 2087.0680 - mean_squared_error: 2087.0680 - val_loss: 279.4842 - val_mean_squared_error: 279.4842\n",
      "\n",
      "Epoch 00005: val_loss improved from 639.20344 to 279.48418, saving model to LSTM-weights-best.hdf5\n",
      "Epoch 6/100\n",
      "832/832 [==============================] - 98s 118ms/step - loss: 1189.7304 - mean_squared_error: 1189.7304 - val_loss: 217.5247 - val_mean_squared_error: 217.5247\n",
      "\n",
      "Epoch 00006: val_loss improved from 279.48418 to 217.52467, saving model to LSTM-weights-best.hdf5\n",
      "Epoch 7/100\n",
      "832/832 [==============================] - 94s 112ms/step - loss: 951.0870 - mean_squared_error: 951.0870 - val_loss: 304.7390 - val_mean_squared_error: 304.7390\n",
      "\n",
      "Epoch 00007: val_loss did not improve from 217.52467\n",
      "Epoch 8/100\n",
      "832/832 [==============================] - 89s 107ms/step - loss: 966.0616 - mean_squared_error: 966.0616 - val_loss: 169.0780 - val_mean_squared_error: 169.0780\n",
      "\n",
      "Epoch 00008: val_loss improved from 217.52467 to 169.07800, saving model to LSTM-weights-best.hdf5\n",
      "Epoch 9/100\n",
      "832/832 [==============================] - 101s 121ms/step - loss: 873.3199 - mean_squared_error: 873.3199 - val_loss: 182.5920 - val_mean_squared_error: 182.5920\n",
      "\n",
      "Epoch 00009: val_loss did not improve from 169.07800\n",
      "Epoch 10/100\n",
      "832/832 [==============================] - 94s 113ms/step - loss: 939.3477 - mean_squared_error: 939.3477 - val_loss: 159.8543 - val_mean_squared_error: 159.8543\n",
      "\n",
      "Epoch 00010: val_loss improved from 169.07800 to 159.85426, saving model to LSTM-weights-best.hdf5\n",
      "Epoch 11/100\n",
      "832/832 [==============================] - 100s 120ms/step - loss: 823.6215 - mean_squared_error: 823.6215 - val_loss: 196.7533 - val_mean_squared_error: 196.7533\n",
      "\n",
      "Epoch 00011: val_loss did not improve from 159.85426\n",
      "Epoch 12/100\n",
      "832/832 [==============================] - 97s 117ms/step - loss: 863.4978 - mean_squared_error: 863.4978 - val_loss: 159.8244 - val_mean_squared_error: 159.8244\n",
      "\n",
      "Epoch 00012: val_loss improved from 159.85426 to 159.82435, saving model to LSTM-weights-best.hdf5\n",
      "Epoch 13/100\n",
      "832/832 [==============================] - 91s 109ms/step - loss: 789.4675 - mean_squared_error: 789.4675 - val_loss: 124.5297 - val_mean_squared_error: 124.5297\n",
      "\n",
      "Epoch 00013: val_loss improved from 159.82435 to 124.52972, saving model to LSTM-weights-best.hdf5\n",
      "Epoch 14/100\n",
      "832/832 [==============================] - 95s 115ms/step - loss: 819.5233 - mean_squared_error: 819.5233 - val_loss: 104.2143 - val_mean_squared_error: 104.2143\n",
      "\n",
      "Epoch 00014: val_loss improved from 124.52972 to 104.21435, saving model to LSTM-weights-best.hdf5\n",
      "Epoch 15/100\n",
      "832/832 [==============================] - 91s 110ms/step - loss: 975.7035 - mean_squared_error: 975.7035 - val_loss: 104.4876 - val_mean_squared_error: 104.4876\n",
      "\n",
      "Epoch 00015: val_loss did not improve from 104.21435\n",
      "Epoch 16/100\n",
      "832/832 [==============================] - 112s 134ms/step - loss: 820.6468 - mean_squared_error: 820.6468 - val_loss: 83.4392 - val_mean_squared_error: 83.4392\n",
      "\n",
      "Epoch 00016: val_loss improved from 104.21435 to 83.43919, saving model to LSTM-weights-best.hdf5\n",
      "Epoch 17/100\n",
      "832/832 [==============================] - 81s 97ms/step - loss: 1023.2553 - mean_squared_error: 1023.2553 - val_loss: 98.5932 - val_mean_squared_error: 98.5932\n",
      "\n",
      "Epoch 00017: val_loss did not improve from 83.43919\n",
      "Epoch 18/100\n",
      "832/832 [==============================] - 88s 106ms/step - loss: 782.2999 - mean_squared_error: 782.2999 - val_loss: 85.1651 - val_mean_squared_error: 85.1651\n",
      "\n",
      "Epoch 00018: val_loss did not improve from 83.43919\n",
      "Epoch 19/100\n",
      "832/832 [==============================] - 94s 113ms/step - loss: 741.9891 - mean_squared_error: 741.9891 - val_loss: 91.8304 - val_mean_squared_error: 91.8304\n",
      "\n",
      "Epoch 00019: val_loss did not improve from 83.43919\n",
      "Epoch 20/100\n",
      "832/832 [==============================] - 95s 114ms/step - loss: 854.4477 - mean_squared_error: 854.4477 - val_loss: 122.1276 - val_mean_squared_error: 122.1276\n",
      "\n",
      "Epoch 00020: val_loss did not improve from 83.43919\n",
      "Epoch 21/100\n",
      "832/832 [==============================] - 86s 104ms/step - loss: 872.3174 - mean_squared_error: 872.3174 - val_loss: 132.5562 - val_mean_squared_error: 132.5562\n",
      "\n",
      "Epoch 00021: val_loss did not improve from 83.43919\n",
      "Epoch 22/100\n",
      "832/832 [==============================] - 84s 102ms/step - loss: 801.5940 - mean_squared_error: 801.5940 - val_loss: 77.1704 - val_mean_squared_error: 77.1704\n",
      "\n",
      "Epoch 00022: val_loss improved from 83.43919 to 77.17037, saving model to LSTM-weights-best.hdf5\n",
      "Epoch 23/100\n",
      "832/832 [==============================] - 83s 100ms/step - loss: 729.7404 - mean_squared_error: 729.7404 - val_loss: 292.8736 - val_mean_squared_error: 292.8736\n",
      "\n",
      "Epoch 00023: val_loss did not improve from 77.17037\n",
      "Epoch 24/100\n",
      "832/832 [==============================] - 91s 109ms/step - loss: 987.7984 - mean_squared_error: 987.7984 - val_loss: 63.3230 - val_mean_squared_error: 63.3230\n",
      "\n",
      "Epoch 00024: val_loss improved from 77.17037 to 63.32298, saving model to LSTM-weights-best.hdf5\n",
      "Epoch 25/100\n",
      "832/832 [==============================] - 86s 103ms/step - loss: 762.2784 - mean_squared_error: 762.2784 - val_loss: 75.4746 - val_mean_squared_error: 75.4746\n",
      "\n",
      "Epoch 00025: val_loss did not improve from 63.32298\n",
      "Epoch 26/100\n",
      "832/832 [==============================] - 77s 93ms/step - loss: 781.2863 - mean_squared_error: 781.2863 - val_loss: 108.9158 - val_mean_squared_error: 108.9158\n",
      "\n",
      "Epoch 00026: val_loss did not improve from 63.32298\n",
      "Epoch 27/100\n",
      "832/832 [==============================] - 74s 89ms/step - loss: 686.0839 - mean_squared_error: 686.0839 - val_loss: 57.0374 - val_mean_squared_error: 57.0374\n",
      "\n",
      "Epoch 00027: val_loss improved from 63.32298 to 57.03737, saving model to LSTM-weights-best.hdf5\n",
      "Epoch 28/100\n",
      "832/832 [==============================] - 74s 89ms/step - loss: 962.9102 - mean_squared_error: 962.9102 - val_loss: 56.3652 - val_mean_squared_error: 56.3652\n",
      "\n",
      "Epoch 00028: val_loss improved from 57.03737 to 56.36519, saving model to LSTM-weights-best.hdf5\n",
      "Epoch 29/100\n",
      "832/832 [==============================] - 74s 89ms/step - loss: 910.2963 - mean_squared_error: 910.2963 - val_loss: 65.8256 - val_mean_squared_error: 65.8256\n",
      "\n",
      "Epoch 00029: val_loss did not improve from 56.36519\n",
      "Epoch 30/100\n",
      "832/832 [==============================] - 73s 88ms/step - loss: 756.4195 - mean_squared_error: 756.4195 - val_loss: 59.8493 - val_mean_squared_error: 59.8493\n",
      "\n",
      "Epoch 00030: val_loss did not improve from 56.36519\n",
      "Epoch 31/100\n",
      "832/832 [==============================] - 74s 89ms/step - loss: 782.6567 - mean_squared_error: 782.6567 - val_loss: 82.3208 - val_mean_squared_error: 82.3208\n",
      "\n",
      "Epoch 00031: val_loss did not improve from 56.36519\n",
      "Epoch 32/100\n",
      "832/832 [==============================] - 74s 89ms/step - loss: 740.3064 - mean_squared_error: 740.3064 - val_loss: 100.7231 - val_mean_squared_error: 100.7231\n",
      "\n",
      "Epoch 00032: val_loss did not improve from 56.36519\n",
      "Epoch 33/100\n",
      "832/832 [==============================] - 74s 89ms/step - loss: 689.4417 - mean_squared_error: 689.4417 - val_loss: 87.3466 - val_mean_squared_error: 87.3466\n",
      "\n",
      "Epoch 00033: val_loss did not improve from 56.36519\n",
      "Epoch 34/100\n"
     ]
    },
    {
     "name": "stdout",
     "output_type": "stream",
     "text": [
      "832/832 [==============================] - 74s 89ms/step - loss: 703.8947 - mean_squared_error: 703.8947 - val_loss: 71.9705 - val_mean_squared_error: 71.9705\n",
      "\n",
      "Epoch 00034: val_loss did not improve from 56.36519\n",
      "Epoch 35/100\n",
      "832/832 [==============================] - 74s 88ms/step - loss: 698.1627 - mean_squared_error: 698.1627 - val_loss: 72.7092 - val_mean_squared_error: 72.7092\n",
      "\n",
      "Epoch 00035: val_loss did not improve from 56.36519\n",
      "Epoch 36/100\n",
      "832/832 [==============================] - 73s 88ms/step - loss: 936.3326 - mean_squared_error: 936.3326 - val_loss: 127.2079 - val_mean_squared_error: 127.2079\n",
      "\n",
      "Epoch 00036: val_loss did not improve from 56.36519\n",
      "Epoch 37/100\n",
      "832/832 [==============================] - 74s 89ms/step - loss: 764.8987 - mean_squared_error: 764.8987 - val_loss: 113.3734 - val_mean_squared_error: 113.3734\n",
      "\n",
      "Epoch 00037: val_loss did not improve from 56.36519\n",
      "Epoch 38/100\n",
      "832/832 [==============================] - 74s 89ms/step - loss: 754.6459 - mean_squared_error: 754.6459 - val_loss: 149.9715 - val_mean_squared_error: 149.9715\n",
      "\n",
      "Epoch 00038: val_loss did not improve from 56.36519\n",
      "Epoch 39/100\n",
      "832/832 [==============================] - 73s 88ms/step - loss: 709.1758 - mean_squared_error: 709.1758 - val_loss: 157.5253 - val_mean_squared_error: 157.5253\n",
      "\n",
      "Epoch 00039: val_loss did not improve from 56.36519\n",
      "Epoch 40/100\n",
      "832/832 [==============================] - 74s 89ms/step - loss: 767.0101 - mean_squared_error: 767.0101 - val_loss: 80.7202 - val_mean_squared_error: 80.7202\n",
      "\n",
      "Epoch 00040: val_loss did not improve from 56.36519\n",
      "Epoch 41/100\n",
      "832/832 [==============================] - 83s 100ms/step - loss: 728.6777 - mean_squared_error: 728.6777 - val_loss: 78.1860 - val_mean_squared_error: 78.1860\n",
      "\n",
      "Epoch 00041: val_loss did not improve from 56.36519\n",
      "Epoch 42/100\n",
      "832/832 [==============================] - 95s 114ms/step - loss: 737.6473 - mean_squared_error: 737.6473 - val_loss: 110.1591 - val_mean_squared_error: 110.1591\n",
      "\n",
      "Epoch 00042: val_loss did not improve from 56.36519\n",
      "Epoch 43/100\n",
      "832/832 [==============================] - 76s 92ms/step - loss: 729.8644 - mean_squared_error: 729.8644 - val_loss: 127.6778 - val_mean_squared_error: 127.6778\n",
      "\n",
      "Epoch 00043: val_loss did not improve from 56.36519\n",
      "Epoch 44/100\n",
      "832/832 [==============================] - 76s 91ms/step - loss: 800.2600 - mean_squared_error: 800.2600 - val_loss: 140.8414 - val_mean_squared_error: 140.8414\n",
      "\n",
      "Epoch 00044: val_loss did not improve from 56.36519\n",
      "Epoch 45/100\n",
      "832/832 [==============================] - 74s 89ms/step - loss: 697.3963 - mean_squared_error: 697.3963 - val_loss: 77.2662 - val_mean_squared_error: 77.2662\n",
      "\n",
      "Epoch 00045: val_loss did not improve from 56.36519\n",
      "Epoch 46/100\n",
      "832/832 [==============================] - 74s 89ms/step - loss: 774.0568 - mean_squared_error: 774.0568 - val_loss: 174.4149 - val_mean_squared_error: 174.4149\n",
      "\n",
      "Epoch 00046: val_loss did not improve from 56.36519\n",
      "Epoch 47/100\n",
      "832/832 [==============================] - 84s 101ms/step - loss: 714.2566 - mean_squared_error: 714.2566 - val_loss: 168.5241 - val_mean_squared_error: 168.5241\n",
      "\n",
      "Epoch 00047: val_loss did not improve from 56.36519\n",
      "Epoch 48/100\n",
      "832/832 [==============================] - 80s 96ms/step - loss: 706.7263 - mean_squared_error: 706.7263 - val_loss: 64.4756 - val_mean_squared_error: 64.4756\n",
      "\n",
      "Epoch 00048: val_loss did not improve from 56.36519\n",
      "Epoch 49/100\n",
      "832/832 [==============================] - 85s 102ms/step - loss: 616.4496 - mean_squared_error: 616.4496 - val_loss: 80.4520 - val_mean_squared_error: 80.4520\n",
      "\n",
      "Epoch 00049: val_loss did not improve from 56.36519\n",
      "Epoch 50/100\n",
      "832/832 [==============================] - 85s 102ms/step - loss: 829.2262 - mean_squared_error: 829.2262 - val_loss: 115.0582 - val_mean_squared_error: 115.0582\n",
      "\n",
      "Epoch 00050: val_loss did not improve from 56.36519\n",
      "Epoch 51/100\n",
      "832/832 [==============================] - 82s 99ms/step - loss: 744.8733 - mean_squared_error: 744.8733 - val_loss: 96.6477 - val_mean_squared_error: 96.6477\n",
      "\n",
      "Epoch 00051: val_loss did not improve from 56.36519\n",
      "Epoch 52/100\n",
      "832/832 [==============================] - 80s 97ms/step - loss: 689.4434 - mean_squared_error: 689.4434 - val_loss: 75.0896 - val_mean_squared_error: 75.0896\n",
      "\n",
      "Epoch 00052: val_loss did not improve from 56.36519\n",
      "Epoch 53/100\n",
      "832/832 [==============================] - 74s 89ms/step - loss: 686.9729 - mean_squared_error: 686.9729 - val_loss: 56.0485 - val_mean_squared_error: 56.0485\n",
      "\n",
      "Epoch 00053: val_loss improved from 56.36519 to 56.04850, saving model to LSTM-weights-best.hdf5\n",
      "Epoch 54/100\n",
      "832/832 [==============================] - 86s 104ms/step - loss: 874.1294 - mean_squared_error: 874.1294 - val_loss: 83.4770 - val_mean_squared_error: 83.4770\n",
      "\n",
      "Epoch 00054: val_loss did not improve from 56.04850\n",
      "Epoch 55/100\n",
      "832/832 [==============================] - 81s 97ms/step - loss: 741.5663 - mean_squared_error: 741.5663 - val_loss: 202.0821 - val_mean_squared_error: 202.0821\n",
      "\n",
      "Epoch 00055: val_loss did not improve from 56.04850\n",
      "Epoch 56/100\n",
      "832/832 [==============================] - 78s 94ms/step - loss: 1025.7376 - mean_squared_error: 1025.7376 - val_loss: 65.7179 - val_mean_squared_error: 65.7179\n",
      "\n",
      "Epoch 00056: val_loss did not improve from 56.04850\n",
      "Epoch 57/100\n",
      "832/832 [==============================] - 80s 96ms/step - loss: 644.8352 - mean_squared_error: 644.8352 - val_loss: 85.0078 - val_mean_squared_error: 85.0078\n",
      "\n",
      "Epoch 00057: val_loss did not improve from 56.04850\n",
      "Epoch 58/100\n",
      "832/832 [==============================] - 75s 90ms/step - loss: 676.9027 - mean_squared_error: 676.9027 - val_loss: 74.5718 - val_mean_squared_error: 74.5718\n",
      "\n",
      "Epoch 00058: val_loss did not improve from 56.04850\n",
      "Epoch 59/100\n",
      "832/832 [==============================] - 74s 89ms/step - loss: 707.8592 - mean_squared_error: 707.8592 - val_loss: 82.2995 - val_mean_squared_error: 82.2995\n",
      "\n",
      "Epoch 00059: val_loss did not improve from 56.04850\n",
      "Epoch 60/100\n",
      "832/832 [==============================] - 95s 115ms/step - loss: 823.4917 - mean_squared_error: 823.4917 - val_loss: 75.0580 - val_mean_squared_error: 75.0580\n",
      "\n",
      "Epoch 00060: val_loss did not improve from 56.04850\n",
      "Epoch 61/100\n",
      "832/832 [==============================] - 94s 113ms/step - loss: 906.0441 - mean_squared_error: 906.0441 - val_loss: 71.3803 - val_mean_squared_error: 71.3803\n",
      "\n",
      "Epoch 00061: val_loss did not improve from 56.04850\n",
      "Epoch 62/100\n",
      "832/832 [==============================] - 94s 113ms/step - loss: 734.8374 - mean_squared_error: 734.8374 - val_loss: 114.9162 - val_mean_squared_error: 114.9162\n",
      "\n",
      "Epoch 00062: val_loss did not improve from 56.04850\n",
      "Epoch 63/100\n",
      "832/832 [==============================] - 103s 123ms/step - loss: 893.2530 - mean_squared_error: 893.2530 - val_loss: 58.1555 - val_mean_squared_error: 58.1555\n",
      "\n",
      "Epoch 00063: val_loss did not improve from 56.04850\n",
      "Epoch 64/100\n",
      "832/832 [==============================] - 93s 112ms/step - loss: 689.9528 - mean_squared_error: 689.9528 - val_loss: 88.4283 - val_mean_squared_error: 88.4283\n",
      "\n",
      "Epoch 00064: val_loss did not improve from 56.04850\n",
      "Epoch 65/100\n",
      "832/832 [==============================] - 91s 110ms/step - loss: 678.5897 - mean_squared_error: 678.5897 - val_loss: 101.1755 - val_mean_squared_error: 101.1755\n",
      "\n",
      "Epoch 00065: val_loss did not improve from 56.04850\n",
      "Epoch 66/100\n",
      "832/832 [==============================] - 90s 108ms/step - loss: 688.6257 - mean_squared_error: 688.6257 - val_loss: 89.1119 - val_mean_squared_error: 89.1119\n",
      "\n",
      "Epoch 00066: val_loss did not improve from 56.04850\n",
      "Epoch 67/100\n",
      "832/832 [==============================] - 76s 91ms/step - loss: 734.0220 - mean_squared_error: 734.0220 - val_loss: 118.3959 - val_mean_squared_error: 118.3959\n",
      "\n",
      "Epoch 00067: val_loss did not improve from 56.04850\n",
      "Epoch 68/100\n",
      "832/832 [==============================] - 92s 111ms/step - loss: 745.6379 - mean_squared_error: 745.6379 - val_loss: 230.2946 - val_mean_squared_error: 230.2946\n",
      "\n",
      "Epoch 00068: val_loss did not improve from 56.04850\n",
      "Epoch 69/100\n",
      "832/832 [==============================] - 93s 112ms/step - loss: 789.4461 - mean_squared_error: 789.4461 - val_loss: 65.2086 - val_mean_squared_error: 65.2086\n",
      "\n",
      "Epoch 00069: val_loss did not improve from 56.04850\n",
      "Epoch 70/100\n"
     ]
    },
    {
     "name": "stdout",
     "output_type": "stream",
     "text": [
      "832/832 [==============================] - 88s 105ms/step - loss: 635.8814 - mean_squared_error: 635.8814 - val_loss: 99.6193 - val_mean_squared_error: 99.6193\n",
      "\n",
      "Epoch 00070: val_loss did not improve from 56.04850\n",
      "Epoch 71/100\n",
      "832/832 [==============================] - 87s 105ms/step - loss: 838.9430 - mean_squared_error: 838.9430 - val_loss: 222.9530 - val_mean_squared_error: 222.9530\n",
      "\n",
      "Epoch 00071: val_loss did not improve from 56.04850\n",
      "Epoch 72/100\n",
      "832/832 [==============================] - 84s 101ms/step - loss: 743.9991 - mean_squared_error: 743.9991 - val_loss: 78.0280 - val_mean_squared_error: 78.0280\n",
      "\n",
      "Epoch 00072: val_loss did not improve from 56.04850\n",
      "Epoch 73/100\n",
      "832/832 [==============================] - 91s 109ms/step - loss: 671.0271 - mean_squared_error: 671.0271 - val_loss: 83.4003 - val_mean_squared_error: 83.4003\n",
      "\n",
      "Epoch 00073: val_loss did not improve from 56.04850\n",
      "Epoch 74/100\n",
      "832/832 [==============================] - 98s 118ms/step - loss: 639.4952 - mean_squared_error: 639.4952 - val_loss: 93.3892 - val_mean_squared_error: 93.3892\n",
      "\n",
      "Epoch 00074: val_loss did not improve from 56.04850\n",
      "Epoch 75/100\n",
      "832/832 [==============================] - 92s 111ms/step - loss: 966.5582 - mean_squared_error: 966.5582 - val_loss: 97.5140 - val_mean_squared_error: 97.5140\n",
      "\n",
      "Epoch 00075: val_loss did not improve from 56.04850\n",
      "Epoch 76/100\n",
      "832/832 [==============================] - 87s 105ms/step - loss: 664.6992 - mean_squared_error: 664.6992 - val_loss: 78.1085 - val_mean_squared_error: 78.1085\n",
      "\n",
      "Epoch 00076: val_loss did not improve from 56.04850\n",
      "Epoch 77/100\n",
      "832/832 [==============================] - 88s 106ms/step - loss: 725.3648 - mean_squared_error: 725.3648 - val_loss: 69.9116 - val_mean_squared_error: 69.9116\n",
      "\n",
      "Epoch 00077: val_loss did not improve from 56.04850\n",
      "Epoch 78/100\n",
      "832/832 [==============================] - 76s 91ms/step - loss: 632.5266 - mean_squared_error: 632.5266 - val_loss: 73.1257 - val_mean_squared_error: 73.1257\n",
      "\n",
      "Epoch 00078: val_loss did not improve from 56.04850\n",
      "Epoch 79/100\n",
      "832/832 [==============================] - 90s 108ms/step - loss: 806.6961 - mean_squared_error: 806.6961 - val_loss: 270.2670 - val_mean_squared_error: 270.2670\n",
      "\n",
      "Epoch 00079: val_loss did not improve from 56.04850\n",
      "Epoch 80/100\n",
      "832/832 [==============================] - 120s 144ms/step - loss: 719.8382 - mean_squared_error: 719.8382 - val_loss: 68.0617 - val_mean_squared_error: 68.0617\n",
      "\n",
      "Epoch 00080: val_loss did not improve from 56.04850\n",
      "Epoch 81/100\n",
      "832/832 [==============================] - 133s 160ms/step - loss: 666.3736 - mean_squared_error: 666.3736 - val_loss: 78.4999 - val_mean_squared_error: 78.4999\n",
      "\n",
      "Epoch 00081: val_loss did not improve from 56.04850\n",
      "Epoch 82/100\n",
      "832/832 [==============================] - 130s 156ms/step - loss: 758.0894 - mean_squared_error: 758.0894 - val_loss: 85.0519 - val_mean_squared_error: 85.0519\n",
      "\n",
      "Epoch 00082: val_loss did not improve from 56.04850\n",
      "Epoch 83/100\n",
      "832/832 [==============================] - 132s 159ms/step - loss: 681.3854 - mean_squared_error: 681.3854 - val_loss: 119.0759 - val_mean_squared_error: 119.0759\n",
      "\n",
      "Epoch 00083: val_loss did not improve from 56.04850\n",
      "Epoch 84/100\n",
      "832/832 [==============================] - 138s 165ms/step - loss: 798.1498 - mean_squared_error: 798.1498 - val_loss: 129.7852 - val_mean_squared_error: 129.7852\n",
      "\n",
      "Epoch 00084: val_loss did not improve from 56.04850\n",
      "Epoch 85/100\n",
      "832/832 [==============================] - 131s 158ms/step - loss: 649.3764 - mean_squared_error: 649.3764 - val_loss: 78.8525 - val_mean_squared_error: 78.8525\n",
      "\n",
      "Epoch 00085: val_loss did not improve from 56.04850\n",
      "Epoch 86/100\n",
      "832/832 [==============================] - 89s 106ms/step - loss: 752.1050 - mean_squared_error: 752.1050 - val_loss: 105.7369 - val_mean_squared_error: 105.7369\n",
      "\n",
      "Epoch 00086: val_loss did not improve from 56.04850\n",
      "Epoch 87/100\n",
      "832/832 [==============================] - 80s 97ms/step - loss: 661.7994 - mean_squared_error: 661.7994 - val_loss: 100.9580 - val_mean_squared_error: 100.9580\n",
      "\n",
      "Epoch 00087: val_loss did not improve from 56.04850\n",
      "Epoch 88/100\n",
      "832/832 [==============================] - 93s 111ms/step - loss: 719.1411 - mean_squared_error: 719.1411 - val_loss: 70.1252 - val_mean_squared_error: 70.1252\n",
      "\n",
      "Epoch 00088: val_loss did not improve from 56.04850\n",
      "Epoch 89/100\n",
      "832/832 [==============================] - 97s 116ms/step - loss: 690.8725 - mean_squared_error: 690.8725 - val_loss: 90.8975 - val_mean_squared_error: 90.8975\n",
      "\n",
      "Epoch 00089: val_loss did not improve from 56.04850\n",
      "Epoch 90/100\n",
      "832/832 [==============================] - 99s 119ms/step - loss: 870.7037 - mean_squared_error: 870.7037 - val_loss: 88.3341 - val_mean_squared_error: 88.3341\n",
      "\n",
      "Epoch 00090: val_loss did not improve from 56.04850\n",
      "Epoch 91/100\n",
      "832/832 [==============================] - 86s 103ms/step - loss: 620.3309 - mean_squared_error: 620.3309 - val_loss: 114.9938 - val_mean_squared_error: 114.9938\n",
      "\n",
      "Epoch 00091: val_loss did not improve from 56.04850\n",
      "Epoch 92/100\n",
      "832/832 [==============================] - 94s 113ms/step - loss: 698.2552 - mean_squared_error: 698.2552 - val_loss: 69.3431 - val_mean_squared_error: 69.3431\n",
      "\n",
      "Epoch 00092: val_loss did not improve from 56.04850\n",
      "Epoch 93/100\n",
      "832/832 [==============================] - 94s 113ms/step - loss: 755.6483 - mean_squared_error: 755.6483 - val_loss: 112.2324 - val_mean_squared_error: 112.2324\n",
      "\n",
      "Epoch 00093: val_loss did not improve from 56.04850\n",
      "Epoch 94/100\n",
      "832/832 [==============================] - 95s 114ms/step - loss: 751.0870 - mean_squared_error: 751.0870 - val_loss: 218.0979 - val_mean_squared_error: 218.0979\n",
      "\n",
      "Epoch 00094: val_loss did not improve from 56.04850\n",
      "Epoch 95/100\n",
      "832/832 [==============================] - 90s 109ms/step - loss: 656.0312 - mean_squared_error: 656.0312 - val_loss: 90.1030 - val_mean_squared_error: 90.1030\n",
      "\n",
      "Epoch 00095: val_loss did not improve from 56.04850\n",
      "Epoch 96/100\n",
      "832/832 [==============================] - 80s 96ms/step - loss: 681.4855 - mean_squared_error: 681.4855 - val_loss: 80.2025 - val_mean_squared_error: 80.2025\n",
      "\n",
      "Epoch 00096: val_loss did not improve from 56.04850\n",
      "Epoch 97/100\n",
      "832/832 [==============================] - 96s 115ms/step - loss: 647.8118 - mean_squared_error: 647.8118 - val_loss: 143.1108 - val_mean_squared_error: 143.1108\n",
      "\n",
      "Epoch 00097: val_loss did not improve from 56.04850\n",
      "Epoch 98/100\n",
      "832/832 [==============================] - 95s 115ms/step - loss: 783.0964 - mean_squared_error: 783.0964 - val_loss: 156.5909 - val_mean_squared_error: 156.5909\n",
      "\n",
      "Epoch 00098: val_loss did not improve from 56.04850\n",
      "Epoch 99/100\n",
      "832/832 [==============================] - 92s 111ms/step - loss: 711.3675 - mean_squared_error: 711.3675 - val_loss: 71.5031 - val_mean_squared_error: 71.5031\n",
      "\n",
      "Epoch 00099: val_loss did not improve from 56.04850\n",
      "Epoch 100/100\n",
      "832/832 [==============================] - 91s 109ms/step - loss: 639.4391 - mean_squared_error: 639.4391 - val_loss: 73.2268 - val_mean_squared_error: 73.2268\n",
      "\n",
      "Epoch 00100: val_loss did not improve from 56.04850\n"
     ]
    },
    {
     "data": {
      "text/plain": [
       "<keras.callbacks.History at 0x7f674a9810f0>"
      ]
     },
     "execution_count": 12,
     "metadata": {},
     "output_type": "execute_result"
    }
   ],
   "source": [
    "model.fit(X_train, y_train, epochs=100, batch_size=1, verbose=1, validation_split=0.2,callbacks=[checkpoint])"
   ]
  },
  {
   "cell_type": "markdown",
   "metadata": {},
   "source": [
    "Once we have generated the best weigths and saved them using the callback feature, we would want our final model to have this best weigths fitted before making the predictions on the test data. So, we load these weights using the load_weights function."
   ]
  },
  {
   "cell_type": "code",
   "execution_count": 13,
   "metadata": {},
   "outputs": [],
   "source": [
    "model.load_weights(\"LSTM-weights-best.hdf5\")"
   ]
  },
  {
   "cell_type": "markdown",
   "metadata": {},
   "source": [
    "### <span style=\"color:brown\"> Predicting the Close Prices"
   ]
  },
  {
   "cell_type": "markdown",
   "metadata": {},
   "source": [
    "Now, we will create a list that would hold the LSTM model's predicitons on the test data.\n",
    "\n",
    "After this, we create a dataframe called performance that contains the actual close values and the predictied close values to analyze the predictions"
   ]
  },
  {
   "cell_type": "code",
   "execution_count": 14,
   "metadata": {},
   "outputs": [],
   "source": [
    "predict_close=[]\n",
    "predict_close = list(model.predict(X_test))"
   ]
  },
  {
   "cell_type": "code",
   "execution_count": 15,
   "metadata": {
    "scrolled": true
   },
   "outputs": [
    {
     "data": {
      "text/plain": [
       "[292.9197,\n",
       " 299.17105,\n",
       " 299.42834,\n",
       " 302.91748,\n",
       " 302.6633,\n",
       " 301.3171,\n",
       " 294.6423,\n",
       " 301.14096,\n",
       " 306.44205,\n",
       " 309.31723,\n",
       " 309.21176,\n",
       " 309.29416,\n",
       " 309.44846,\n",
       " 309.37296,\n",
       " 309.259,\n",
       " 309.14786,\n",
       " 308.66574,\n",
       " 308.42178,\n",
       " 308.07254,\n",
       " 307.96036,\n",
       " 308.50626,\n",
       " 308.8591,\n",
       " 308.96466,\n",
       " 307.56003,\n",
       " 306.4363,\n",
       " 305.8829,\n",
       " 306.07162,\n",
       " 306.42422,\n",
       " 306.7749,\n",
       " 306.49902,\n",
       " 306.03918,\n",
       " 306.52512,\n",
       " 305.76352,\n",
       " 305.74088,\n",
       " 301.38974,\n",
       " 298.83383,\n",
       " 305.77698,\n",
       " 306.99847,\n",
       " 308.08353,\n",
       " 308.68814,\n",
       " 308.48807,\n",
       " 309.1133,\n",
       " 310.11588,\n",
       " 310.10214,\n",
       " 310.023,\n",
       " 310.27756,\n",
       " 310.26382,\n",
       " 310.33563,\n",
       " 310.33618,\n",
       " 310.269,\n",
       " 310.26025,\n",
       " 310.2715,\n",
       " 310.27255,\n",
       " 310.27087,\n",
       " 310.14362,\n",
       " 310.0461,\n",
       " 310.15372,\n",
       " 310.17874,\n",
       " 310.14468,\n",
       " 310.14777]"
      ]
     },
     "execution_count": 15,
     "metadata": {},
     "output_type": "execute_result"
    }
   ],
   "source": [
    "predicted_close=[]\n",
    "for i in range(len(y_test)):\n",
    "    predicted_close.append((predict_close[i][0][0]))\n",
    "predicted_close"
   ]
  },
  {
   "cell_type": "code",
   "execution_count": 16,
   "metadata": {
    "scrolled": true
   },
   "outputs": [
    {
     "data": {
      "text/plain": [
       "[299.3,\n",
       " 302.75,\n",
       " 304.05,\n",
       " 297.9,\n",
       " 293.95,\n",
       " 304.8,\n",
       " 308.0,\n",
       " 319.2,\n",
       " 320.55,\n",
       " 321.4,\n",
       " 330.9,\n",
       " 321.1,\n",
       " 322.3,\n",
       " 317.7,\n",
       " 312.75,\n",
       " 314.6,\n",
       " 310.7,\n",
       " 315.4,\n",
       " 314.5,\n",
       " 315.9,\n",
       " 315.65,\n",
       " 310.2,\n",
       " 309.9,\n",
       " 305.45,\n",
       " 310.75,\n",
       " 306.5,\n",
       " 311.9,\n",
       " 311.35,\n",
       " 307.9,\n",
       " 309.7,\n",
       " 308.6,\n",
       " 305.2,\n",
       " 298.45,\n",
       " 299.7,\n",
       " 306.9,\n",
       " 307.95,\n",
       " 316.0,\n",
       " 311.6,\n",
       " 316.3,\n",
       " 321.0,\n",
       " 345.8,\n",
       " 336.95,\n",
       " 342.5,\n",
       " 342.2,\n",
       " 356.0,\n",
       " 360.3,\n",
       " 360.25,\n",
       " 348.2,\n",
       " 354.0,\n",
       " 352.5,\n",
       " 355.75,\n",
       " 352.8,\n",
       " 336.3,\n",
       " 342.2,\n",
       " 344.95,\n",
       " 347.85,\n",
       " 345.4,\n",
       " 346.0,\n",
       " 343.5,\n",
       " nan]"
      ]
     },
     "execution_count": 16,
     "metadata": {},
     "output_type": "execute_result"
    }
   ],
   "source": [
    "actual_close=[]\n",
    "for i in range(len(y_test)):\n",
    "    actual_close.append((y_test[i][0][0]))\n",
    "actual_close"
   ]
  },
  {
   "cell_type": "code",
   "execution_count": 17,
   "metadata": {},
   "outputs": [],
   "source": [
    "performance=pd.DataFrame([list(predicted_close),list(actual_close)])"
   ]
  },
  {
   "cell_type": "code",
   "execution_count": 18,
   "metadata": {},
   "outputs": [],
   "source": [
    "performance=performance.T"
   ]
  },
  {
   "cell_type": "code",
   "execution_count": 19,
   "metadata": {},
   "outputs": [],
   "source": [
    "performance.columns=['Predicted','Actual']\n",
    "Spread=performance.Actual-performance.Predicted\n"
   ]
  },
  {
   "cell_type": "code",
   "execution_count": 20,
   "metadata": {},
   "outputs": [
    {
     "data": {
      "text/html": [
       "<div>\n",
       "<style scoped>\n",
       "    .dataframe tbody tr th:only-of-type {\n",
       "        vertical-align: middle;\n",
       "    }\n",
       "\n",
       "    .dataframe tbody tr th {\n",
       "        vertical-align: top;\n",
       "    }\n",
       "\n",
       "    .dataframe thead th {\n",
       "        text-align: right;\n",
       "    }\n",
       "</style>\n",
       "<table border=\"1\" class=\"dataframe\">\n",
       "  <thead>\n",
       "    <tr style=\"text-align: right;\">\n",
       "      <th></th>\n",
       "      <th>Predicted</th>\n",
       "      <th>Actual</th>\n",
       "    </tr>\n",
       "  </thead>\n",
       "  <tbody>\n",
       "    <tr>\n",
       "      <th>55</th>\n",
       "      <td>310.046112</td>\n",
       "      <td>347.85</td>\n",
       "    </tr>\n",
       "    <tr>\n",
       "      <th>56</th>\n",
       "      <td>310.153717</td>\n",
       "      <td>345.40</td>\n",
       "    </tr>\n",
       "    <tr>\n",
       "      <th>57</th>\n",
       "      <td>310.178741</td>\n",
       "      <td>346.00</td>\n",
       "    </tr>\n",
       "    <tr>\n",
       "      <th>58</th>\n",
       "      <td>310.144684</td>\n",
       "      <td>343.50</td>\n",
       "    </tr>\n",
       "    <tr>\n",
       "      <th>59</th>\n",
       "      <td>310.147766</td>\n",
       "      <td>NaN</td>\n",
       "    </tr>\n",
       "  </tbody>\n",
       "</table>\n",
       "</div>"
      ],
      "text/plain": [
       "     Predicted  Actual\n",
       "55  310.046112  347.85\n",
       "56  310.153717  345.40\n",
       "57  310.178741  346.00\n",
       "58  310.144684  343.50\n",
       "59  310.147766     NaN"
      ]
     },
     "execution_count": 20,
     "metadata": {},
     "output_type": "execute_result"
    }
   ],
   "source": [
    "performance.tail()"
   ]
  },
  {
   "cell_type": "markdown",
   "metadata": {},
   "source": [
    "Now we will plot and see how the spread between the Actual and Predicted prices behaves. If the spread is mean reverting, then we can use this knowledge to create good entry and exit points for already exiting trades, or we enter new positions. "
   ]
  },
  {
   "cell_type": "code",
   "execution_count": 21,
   "metadata": {},
   "outputs": [
    {
     "data": {
      "image/png": "[encoded data removed]",
      "text/plain": [
       "<Figure size 1080x504 with 1 Axes>"
      ]
     },
     "metadata": {},
     "output_type": "display_data"
    }
   ],
   "source": [
    "# Here s stands for the standard deviation range for the spread, beyond which we will consider the entry and exit positions\n",
    "# Feel free to change this s value to generate different signals\n",
    "s=2\n",
    "plt.figure(figsize=(15,7))\n",
    "plt.plot(Spread)\n",
    "plt.plot(Spread.expanding().mean()+s*Spread.expanding().std(),c='g')\n",
    "plt.plot(Spread.expanding().mean()-s*Spread.expanding().std(),c='r')\n",
    "plt.ylabel('Spread')\n",
    "plt.xlabel('Test Data')\n",
    "plt.show()"
   ]
  },
  {
   "cell_type": "markdown",
   "metadata": {},
   "source": [
    "### <span style=\"color:brown\"> Visualizing and comparing the performance"
   ]
  },
  {
   "cell_type": "markdown",
   "metadata": {},
   "source": [
    "Now, let us plot the predicted and actual values of the close prices."
   ]
  },
  {
   "cell_type": "markdown",
   "metadata": {},
   "source": [
    "In this strategy, we have generated a buy signal everytime the spread value has gone below the lower standard deviation line.\n",
    "Conversely, we have generated a sell signal everytime the spread value has gone above the upper standard deviation line."
   ]
  },
  {
   "cell_type": "markdown",
   "metadata": {},
   "source": [
    "####  Please note: The strategy given here is a mean reverting model that could be used for paper trading. Please do not use this in real trading without extensive backtesting."
   ]
  },
  {
   "cell_type": "code",
   "execution_count": 22,
   "metadata": {
    "scrolled": false
   },
   "outputs": [
    {
     "data": {
      "image/png": "[encoded data removed]",
      "text/plain": [
       "<Figure size 1080x504 with 1 Axes>"
      ]
     },
     "metadata": {},
     "output_type": "display_data"
    }
   ],
   "source": [
    "plt.figure(figsize=(15,7))\n",
    "# Plot the predicted and actual prices for comparison\n",
    "plt.plot(performance.Predicted.iloc[:-1],c='y')\n",
    "plt.plot(performance.Actual,c='b')\n",
    "# Plot the sell signlas wherever the Spread is above the upper standard deviation band\n",
    "plt.scatter(performance.Actual[(Spread>Spread.expanding().mean()+s*Spread.expanding().std())].index,\n",
    "            performance.Actual[(Spread>Spread.expanding().mean()+s*Spread.expanding().std())],c='r',s=50)\n",
    "# Plot the buy signlas wherever the Spread is below the lower standard deviation band\n",
    "plt.scatter(performance.Actual[(Spread<Spread.expanding().mean()-s*Spread.expanding().std())].index,\n",
    "            performance.Actual[(Spread<Spread.expanding().mean()-s*Spread.expanding().std())],c='g',s=50)\n",
    "plt.legend(['Predicted_Close','Actual_Close','Over Bought','Over Sold'])\n",
    "plt.ylabel('SBI Price')\n",
    "plt.xlabel('Test Data')\n",
    "plt.show()\n"
   ]
  },
  {
   "cell_type": "markdown",
   "metadata": {},
   "source": [
    "### Conculsion"
   ]
  },
  {
   "cell_type": "markdown",
   "metadata": {
    "collapsed": true
   },
   "source": [
    "We can see from the above graph that whenever the sell signals are generated, the market has either turned sideways/ neutral, or  shown a sharp reversal. To learn how to confirm mean reversion and how to use such signals, please refer to the course on Mean Reversion Strategies by Dr.E .P. Chan. In the next section, we will learn how to create a DNN archietecture automatically and fine tune the hyper-parameters to create the best model. Till then, we hope that you will explore more."
   ]
  }
 ],
 "metadata": {
  "anaconda-cloud": {},
  "kernelspec": {
   "display_name": "Python 3",
   "language": "python",
   "name": "python3"
  },
  "language_info": {
   "codemirror_mode": {
    "name": "ipython",
    "version": 3
   },
   "file_extension": ".py",
   "mimetype": "text/x-python",
   "name": "python",
   "nbconvert_exporter": "python",
   "pygments_lexer": "ipython3",
   "version": "3.6.8"
  }
 },
 "nbformat": 4,
 "nbformat_minor": 1
}
